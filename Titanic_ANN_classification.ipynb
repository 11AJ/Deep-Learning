{
  "nbformat": 4,
  "nbformat_minor": 0,
  "metadata": {
    "colab": {
      "name": "Titanic ANN classification.ipynb",
      "provenance": [],
      "collapsed_sections": []
    },
    "kernelspec": {
      "name": "python3",
      "display_name": "Python 3"
    },
    "language_info": {
      "name": "python"
    }
  },
  "cells": [
    {
      "cell_type": "code",
      "metadata": {
        "id": "Dx0RxG00kg-_"
      },
      "source": [
        "import numpy as np\n",
        "import pandas as pd\n",
        "import matplotlib.pyplot as plt\n",
        "import seaborn as sns"
      ],
      "execution_count": 1,
      "outputs": []
    },
    {
      "cell_type": "code",
      "metadata": {
        "id": "M4WImThuk0wv"
      },
      "source": [
        "import tensorflow as tf\n",
        "from tensorflow.keras.models import Sequential\n",
        "from tensorflow.keras.layers import Dense"
      ],
      "execution_count": 2,
      "outputs": []
    },
    {
      "cell_type": "code",
      "metadata": {
        "id": "XPycx6ExlD4e"
      },
      "source": [
        "df=pd.read_csv('/content/titanic.csv')"
      ],
      "execution_count": 3,
      "outputs": []
    },
    {
      "cell_type": "code",
      "metadata": {
        "colab": {
          "base_uri": "https://localhost:8080/",
          "height": 240
        },
        "id": "jaqknb4Ylb7m",
        "outputId": "49643ec7-6e06-4a41-b30f-e5d08f8b8f3b"
      },
      "source": [
        "df.head()"
      ],
      "execution_count": 4,
      "outputs": [
        {
          "output_type": "execute_result",
          "data": {
            "text/html": [
              "<div>\n",
              "<style scoped>\n",
              "    .dataframe tbody tr th:only-of-type {\n",
              "        vertical-align: middle;\n",
              "    }\n",
              "\n",
              "    .dataframe tbody tr th {\n",
              "        vertical-align: top;\n",
              "    }\n",
              "\n",
              "    .dataframe thead th {\n",
              "        text-align: right;\n",
              "    }\n",
              "</style>\n",
              "<table border=\"1\" class=\"dataframe\">\n",
              "  <thead>\n",
              "    <tr style=\"text-align: right;\">\n",
              "      <th></th>\n",
              "      <th>PassengerId</th>\n",
              "      <th>Survived</th>\n",
              "      <th>Pclass</th>\n",
              "      <th>Name</th>\n",
              "      <th>Sex</th>\n",
              "      <th>Age</th>\n",
              "      <th>SibSp</th>\n",
              "      <th>Parch</th>\n",
              "      <th>Ticket</th>\n",
              "      <th>Fare</th>\n",
              "      <th>Cabin</th>\n",
              "      <th>Embarked</th>\n",
              "    </tr>\n",
              "  </thead>\n",
              "  <tbody>\n",
              "    <tr>\n",
              "      <th>0</th>\n",
              "      <td>1</td>\n",
              "      <td>0</td>\n",
              "      <td>3</td>\n",
              "      <td>Braund, Mr. Owen Harris</td>\n",
              "      <td>male</td>\n",
              "      <td>22.0</td>\n",
              "      <td>1</td>\n",
              "      <td>0</td>\n",
              "      <td>A/5 21171</td>\n",
              "      <td>7.2500</td>\n",
              "      <td>NaN</td>\n",
              "      <td>S</td>\n",
              "    </tr>\n",
              "    <tr>\n",
              "      <th>1</th>\n",
              "      <td>2</td>\n",
              "      <td>1</td>\n",
              "      <td>1</td>\n",
              "      <td>Cumings, Mrs. John Bradley (Florence Briggs Th...</td>\n",
              "      <td>female</td>\n",
              "      <td>38.0</td>\n",
              "      <td>1</td>\n",
              "      <td>0</td>\n",
              "      <td>PC 17599</td>\n",
              "      <td>71.2833</td>\n",
              "      <td>C85</td>\n",
              "      <td>C</td>\n",
              "    </tr>\n",
              "    <tr>\n",
              "      <th>2</th>\n",
              "      <td>3</td>\n",
              "      <td>1</td>\n",
              "      <td>3</td>\n",
              "      <td>Heikkinen, Miss. Laina</td>\n",
              "      <td>female</td>\n",
              "      <td>26.0</td>\n",
              "      <td>0</td>\n",
              "      <td>0</td>\n",
              "      <td>STON/O2. 3101282</td>\n",
              "      <td>7.9250</td>\n",
              "      <td>NaN</td>\n",
              "      <td>S</td>\n",
              "    </tr>\n",
              "    <tr>\n",
              "      <th>3</th>\n",
              "      <td>4</td>\n",
              "      <td>1</td>\n",
              "      <td>1</td>\n",
              "      <td>Futrelle, Mrs. Jacques Heath (Lily May Peel)</td>\n",
              "      <td>female</td>\n",
              "      <td>35.0</td>\n",
              "      <td>1</td>\n",
              "      <td>0</td>\n",
              "      <td>113803</td>\n",
              "      <td>53.1000</td>\n",
              "      <td>C123</td>\n",
              "      <td>S</td>\n",
              "    </tr>\n",
              "    <tr>\n",
              "      <th>4</th>\n",
              "      <td>5</td>\n",
              "      <td>0</td>\n",
              "      <td>3</td>\n",
              "      <td>Allen, Mr. William Henry</td>\n",
              "      <td>male</td>\n",
              "      <td>35.0</td>\n",
              "      <td>0</td>\n",
              "      <td>0</td>\n",
              "      <td>373450</td>\n",
              "      <td>8.0500</td>\n",
              "      <td>NaN</td>\n",
              "      <td>S</td>\n",
              "    </tr>\n",
              "  </tbody>\n",
              "</table>\n",
              "</div>"
            ],
            "text/plain": [
              "   PassengerId  Survived  Pclass  ...     Fare Cabin  Embarked\n",
              "0            1         0       3  ...   7.2500   NaN         S\n",
              "1            2         1       1  ...  71.2833   C85         C\n",
              "2            3         1       3  ...   7.9250   NaN         S\n",
              "3            4         1       1  ...  53.1000  C123         S\n",
              "4            5         0       3  ...   8.0500   NaN         S\n",
              "\n",
              "[5 rows x 12 columns]"
            ]
          },
          "metadata": {},
          "execution_count": 4
        }
      ]
    },
    {
      "cell_type": "code",
      "metadata": {
        "id": "ZLoNpwHnlcqy"
      },
      "source": [
        "df.drop('PassengerId',axis=1,inplace=True)\n",
        "df.drop('Cabin',axis=1,inplace=True)"
      ],
      "execution_count": 5,
      "outputs": []
    },
    {
      "cell_type": "code",
      "metadata": {
        "colab": {
          "base_uri": "https://localhost:8080/",
          "height": 205
        },
        "id": "XhZ1ST8flk4J",
        "outputId": "eb8b588e-9498-4e2b-c667-0122fd4ad328"
      },
      "source": [
        "df.head()"
      ],
      "execution_count": 6,
      "outputs": [
        {
          "output_type": "execute_result",
          "data": {
            "text/html": [
              "<div>\n",
              "<style scoped>\n",
              "    .dataframe tbody tr th:only-of-type {\n",
              "        vertical-align: middle;\n",
              "    }\n",
              "\n",
              "    .dataframe tbody tr th {\n",
              "        vertical-align: top;\n",
              "    }\n",
              "\n",
              "    .dataframe thead th {\n",
              "        text-align: right;\n",
              "    }\n",
              "</style>\n",
              "<table border=\"1\" class=\"dataframe\">\n",
              "  <thead>\n",
              "    <tr style=\"text-align: right;\">\n",
              "      <th></th>\n",
              "      <th>Survived</th>\n",
              "      <th>Pclass</th>\n",
              "      <th>Name</th>\n",
              "      <th>Sex</th>\n",
              "      <th>Age</th>\n",
              "      <th>SibSp</th>\n",
              "      <th>Parch</th>\n",
              "      <th>Ticket</th>\n",
              "      <th>Fare</th>\n",
              "      <th>Embarked</th>\n",
              "    </tr>\n",
              "  </thead>\n",
              "  <tbody>\n",
              "    <tr>\n",
              "      <th>0</th>\n",
              "      <td>0</td>\n",
              "      <td>3</td>\n",
              "      <td>Braund, Mr. Owen Harris</td>\n",
              "      <td>male</td>\n",
              "      <td>22.0</td>\n",
              "      <td>1</td>\n",
              "      <td>0</td>\n",
              "      <td>A/5 21171</td>\n",
              "      <td>7.2500</td>\n",
              "      <td>S</td>\n",
              "    </tr>\n",
              "    <tr>\n",
              "      <th>1</th>\n",
              "      <td>1</td>\n",
              "      <td>1</td>\n",
              "      <td>Cumings, Mrs. John Bradley (Florence Briggs Th...</td>\n",
              "      <td>female</td>\n",
              "      <td>38.0</td>\n",
              "      <td>1</td>\n",
              "      <td>0</td>\n",
              "      <td>PC 17599</td>\n",
              "      <td>71.2833</td>\n",
              "      <td>C</td>\n",
              "    </tr>\n",
              "    <tr>\n",
              "      <th>2</th>\n",
              "      <td>1</td>\n",
              "      <td>3</td>\n",
              "      <td>Heikkinen, Miss. Laina</td>\n",
              "      <td>female</td>\n",
              "      <td>26.0</td>\n",
              "      <td>0</td>\n",
              "      <td>0</td>\n",
              "      <td>STON/O2. 3101282</td>\n",
              "      <td>7.9250</td>\n",
              "      <td>S</td>\n",
              "    </tr>\n",
              "    <tr>\n",
              "      <th>3</th>\n",
              "      <td>1</td>\n",
              "      <td>1</td>\n",
              "      <td>Futrelle, Mrs. Jacques Heath (Lily May Peel)</td>\n",
              "      <td>female</td>\n",
              "      <td>35.0</td>\n",
              "      <td>1</td>\n",
              "      <td>0</td>\n",
              "      <td>113803</td>\n",
              "      <td>53.1000</td>\n",
              "      <td>S</td>\n",
              "    </tr>\n",
              "    <tr>\n",
              "      <th>4</th>\n",
              "      <td>0</td>\n",
              "      <td>3</td>\n",
              "      <td>Allen, Mr. William Henry</td>\n",
              "      <td>male</td>\n",
              "      <td>35.0</td>\n",
              "      <td>0</td>\n",
              "      <td>0</td>\n",
              "      <td>373450</td>\n",
              "      <td>8.0500</td>\n",
              "      <td>S</td>\n",
              "    </tr>\n",
              "  </tbody>\n",
              "</table>\n",
              "</div>"
            ],
            "text/plain": [
              "   Survived  Pclass  ...     Fare Embarked\n",
              "0         0       3  ...   7.2500        S\n",
              "1         1       1  ...  71.2833        C\n",
              "2         1       3  ...   7.9250        S\n",
              "3         1       1  ...  53.1000        S\n",
              "4         0       3  ...   8.0500        S\n",
              "\n",
              "[5 rows x 10 columns]"
            ]
          },
          "metadata": {},
          "execution_count": 6
        }
      ]
    },
    {
      "cell_type": "code",
      "metadata": {
        "colab": {
          "base_uri": "https://localhost:8080/"
        },
        "id": "ArqILeepl1ni",
        "outputId": "bc3ac948-0c54-49c5-c041-48c18284eb04"
      },
      "source": [
        "df.isnull().sum()"
      ],
      "execution_count": 7,
      "outputs": [
        {
          "output_type": "execute_result",
          "data": {
            "text/plain": [
              "Survived      0\n",
              "Pclass        0\n",
              "Name          0\n",
              "Sex           0\n",
              "Age         177\n",
              "SibSp         0\n",
              "Parch         0\n",
              "Ticket        0\n",
              "Fare          0\n",
              "Embarked      2\n",
              "dtype: int64"
            ]
          },
          "metadata": {},
          "execution_count": 7
        }
      ]
    },
    {
      "cell_type": "code",
      "metadata": {
        "colab": {
          "base_uri": "https://localhost:8080/"
        },
        "id": "vegfWH3hl57o",
        "outputId": "01ca2f00-676e-430a-caca-784ca1b628a4"
      },
      "source": [
        "df['Age'].value_counts()"
      ],
      "execution_count": 8,
      "outputs": [
        {
          "output_type": "execute_result",
          "data": {
            "text/plain": [
              "24.00    30\n",
              "22.00    27\n",
              "18.00    26\n",
              "19.00    25\n",
              "30.00    25\n",
              "         ..\n",
              "55.50     1\n",
              "70.50     1\n",
              "66.00     1\n",
              "23.50     1\n",
              "0.42      1\n",
              "Name: Age, Length: 88, dtype: int64"
            ]
          },
          "metadata": {},
          "execution_count": 8
        }
      ]
    },
    {
      "cell_type": "code",
      "metadata": {
        "id": "xqEGHYGWmAHU"
      },
      "source": [
        "df['Age'].fillna(df['Age'].mean(),inplace=True)\n",
        "df['Embarked'].fillna('S',inplace=True)"
      ],
      "execution_count": 9,
      "outputs": []
    },
    {
      "cell_type": "code",
      "metadata": {
        "colab": {
          "base_uri": "https://localhost:8080/"
        },
        "id": "_204LuNWmzu_",
        "outputId": "6abc74a0-59f2-4c00-c703-24aba05418ae"
      },
      "source": [
        "df['Embarked'].value_counts()"
      ],
      "execution_count": 10,
      "outputs": [
        {
          "output_type": "execute_result",
          "data": {
            "text/plain": [
              "S    646\n",
              "C    168\n",
              "Q     77\n",
              "Name: Embarked, dtype: int64"
            ]
          },
          "metadata": {},
          "execution_count": 10
        }
      ]
    },
    {
      "cell_type": "code",
      "metadata": {
        "colab": {
          "base_uri": "https://localhost:8080/"
        },
        "id": "BBfIJAAsmKkg",
        "outputId": "3c328e5c-4bb5-420e-c813-9648d76f0c9f"
      },
      "source": [
        "df.isnull().sum()"
      ],
      "execution_count": 11,
      "outputs": [
        {
          "output_type": "execute_result",
          "data": {
            "text/plain": [
              "Survived    0\n",
              "Pclass      0\n",
              "Name        0\n",
              "Sex         0\n",
              "Age         0\n",
              "SibSp       0\n",
              "Parch       0\n",
              "Ticket      0\n",
              "Fare        0\n",
              "Embarked    0\n",
              "dtype: int64"
            ]
          },
          "metadata": {},
          "execution_count": 11
        }
      ]
    },
    {
      "cell_type": "code",
      "metadata": {
        "colab": {
          "base_uri": "https://localhost:8080/",
          "height": 205
        },
        "id": "cZDFJo6bmYuK",
        "outputId": "71e93d98-cbdd-474f-a64b-436c4a6a72af"
      },
      "source": [
        "df.head()"
      ],
      "execution_count": 12,
      "outputs": [
        {
          "output_type": "execute_result",
          "data": {
            "text/html": [
              "<div>\n",
              "<style scoped>\n",
              "    .dataframe tbody tr th:only-of-type {\n",
              "        vertical-align: middle;\n",
              "    }\n",
              "\n",
              "    .dataframe tbody tr th {\n",
              "        vertical-align: top;\n",
              "    }\n",
              "\n",
              "    .dataframe thead th {\n",
              "        text-align: right;\n",
              "    }\n",
              "</style>\n",
              "<table border=\"1\" class=\"dataframe\">\n",
              "  <thead>\n",
              "    <tr style=\"text-align: right;\">\n",
              "      <th></th>\n",
              "      <th>Survived</th>\n",
              "      <th>Pclass</th>\n",
              "      <th>Name</th>\n",
              "      <th>Sex</th>\n",
              "      <th>Age</th>\n",
              "      <th>SibSp</th>\n",
              "      <th>Parch</th>\n",
              "      <th>Ticket</th>\n",
              "      <th>Fare</th>\n",
              "      <th>Embarked</th>\n",
              "    </tr>\n",
              "  </thead>\n",
              "  <tbody>\n",
              "    <tr>\n",
              "      <th>0</th>\n",
              "      <td>0</td>\n",
              "      <td>3</td>\n",
              "      <td>Braund, Mr. Owen Harris</td>\n",
              "      <td>male</td>\n",
              "      <td>22.0</td>\n",
              "      <td>1</td>\n",
              "      <td>0</td>\n",
              "      <td>A/5 21171</td>\n",
              "      <td>7.2500</td>\n",
              "      <td>S</td>\n",
              "    </tr>\n",
              "    <tr>\n",
              "      <th>1</th>\n",
              "      <td>1</td>\n",
              "      <td>1</td>\n",
              "      <td>Cumings, Mrs. John Bradley (Florence Briggs Th...</td>\n",
              "      <td>female</td>\n",
              "      <td>38.0</td>\n",
              "      <td>1</td>\n",
              "      <td>0</td>\n",
              "      <td>PC 17599</td>\n",
              "      <td>71.2833</td>\n",
              "      <td>C</td>\n",
              "    </tr>\n",
              "    <tr>\n",
              "      <th>2</th>\n",
              "      <td>1</td>\n",
              "      <td>3</td>\n",
              "      <td>Heikkinen, Miss. Laina</td>\n",
              "      <td>female</td>\n",
              "      <td>26.0</td>\n",
              "      <td>0</td>\n",
              "      <td>0</td>\n",
              "      <td>STON/O2. 3101282</td>\n",
              "      <td>7.9250</td>\n",
              "      <td>S</td>\n",
              "    </tr>\n",
              "    <tr>\n",
              "      <th>3</th>\n",
              "      <td>1</td>\n",
              "      <td>1</td>\n",
              "      <td>Futrelle, Mrs. Jacques Heath (Lily May Peel)</td>\n",
              "      <td>female</td>\n",
              "      <td>35.0</td>\n",
              "      <td>1</td>\n",
              "      <td>0</td>\n",
              "      <td>113803</td>\n",
              "      <td>53.1000</td>\n",
              "      <td>S</td>\n",
              "    </tr>\n",
              "    <tr>\n",
              "      <th>4</th>\n",
              "      <td>0</td>\n",
              "      <td>3</td>\n",
              "      <td>Allen, Mr. William Henry</td>\n",
              "      <td>male</td>\n",
              "      <td>35.0</td>\n",
              "      <td>0</td>\n",
              "      <td>0</td>\n",
              "      <td>373450</td>\n",
              "      <td>8.0500</td>\n",
              "      <td>S</td>\n",
              "    </tr>\n",
              "  </tbody>\n",
              "</table>\n",
              "</div>"
            ],
            "text/plain": [
              "   Survived  Pclass  ...     Fare Embarked\n",
              "0         0       3  ...   7.2500        S\n",
              "1         1       1  ...  71.2833        C\n",
              "2         1       3  ...   7.9250        S\n",
              "3         1       1  ...  53.1000        S\n",
              "4         0       3  ...   8.0500        S\n",
              "\n",
              "[5 rows x 10 columns]"
            ]
          },
          "metadata": {},
          "execution_count": 12
        }
      ]
    },
    {
      "cell_type": "code",
      "metadata": {
        "id": "Qz_64kp_m9qK"
      },
      "source": [
        "df.drop('Ticket',axis=1,inplace=True)"
      ],
      "execution_count": 13,
      "outputs": []
    },
    {
      "cell_type": "code",
      "metadata": {
        "id": "_ZQobzt0rAPV"
      },
      "source": [
        "df.drop('Name',axis=1,inplace=True)"
      ],
      "execution_count": 14,
      "outputs": []
    },
    {
      "cell_type": "code",
      "metadata": {
        "id": "A771o1OrrGm2"
      },
      "source": [
        "from sklearn.preprocessing import LabelEncoder\n",
        "lb=LabelEncoder()\n",
        "df['Sex']=lb.fit_transform(df['Sex'])\n",
        "df['Embarked']=lb.fit_transform(df['Embarked'])"
      ],
      "execution_count": 15,
      "outputs": []
    },
    {
      "cell_type": "code",
      "metadata": {
        "colab": {
          "base_uri": "https://localhost:8080/",
          "height": 205
        },
        "id": "oz8ajf8VnEtx",
        "outputId": "a4838489-6e85-4e2f-dd26-4ce7ed64779f"
      },
      "source": [
        "df.head()"
      ],
      "execution_count": 16,
      "outputs": [
        {
          "output_type": "execute_result",
          "data": {
            "text/html": [
              "<div>\n",
              "<style scoped>\n",
              "    .dataframe tbody tr th:only-of-type {\n",
              "        vertical-align: middle;\n",
              "    }\n",
              "\n",
              "    .dataframe tbody tr th {\n",
              "        vertical-align: top;\n",
              "    }\n",
              "\n",
              "    .dataframe thead th {\n",
              "        text-align: right;\n",
              "    }\n",
              "</style>\n",
              "<table border=\"1\" class=\"dataframe\">\n",
              "  <thead>\n",
              "    <tr style=\"text-align: right;\">\n",
              "      <th></th>\n",
              "      <th>Survived</th>\n",
              "      <th>Pclass</th>\n",
              "      <th>Sex</th>\n",
              "      <th>Age</th>\n",
              "      <th>SibSp</th>\n",
              "      <th>Parch</th>\n",
              "      <th>Fare</th>\n",
              "      <th>Embarked</th>\n",
              "    </tr>\n",
              "  </thead>\n",
              "  <tbody>\n",
              "    <tr>\n",
              "      <th>0</th>\n",
              "      <td>0</td>\n",
              "      <td>3</td>\n",
              "      <td>1</td>\n",
              "      <td>22.0</td>\n",
              "      <td>1</td>\n",
              "      <td>0</td>\n",
              "      <td>7.2500</td>\n",
              "      <td>2</td>\n",
              "    </tr>\n",
              "    <tr>\n",
              "      <th>1</th>\n",
              "      <td>1</td>\n",
              "      <td>1</td>\n",
              "      <td>0</td>\n",
              "      <td>38.0</td>\n",
              "      <td>1</td>\n",
              "      <td>0</td>\n",
              "      <td>71.2833</td>\n",
              "      <td>0</td>\n",
              "    </tr>\n",
              "    <tr>\n",
              "      <th>2</th>\n",
              "      <td>1</td>\n",
              "      <td>3</td>\n",
              "      <td>0</td>\n",
              "      <td>26.0</td>\n",
              "      <td>0</td>\n",
              "      <td>0</td>\n",
              "      <td>7.9250</td>\n",
              "      <td>2</td>\n",
              "    </tr>\n",
              "    <tr>\n",
              "      <th>3</th>\n",
              "      <td>1</td>\n",
              "      <td>1</td>\n",
              "      <td>0</td>\n",
              "      <td>35.0</td>\n",
              "      <td>1</td>\n",
              "      <td>0</td>\n",
              "      <td>53.1000</td>\n",
              "      <td>2</td>\n",
              "    </tr>\n",
              "    <tr>\n",
              "      <th>4</th>\n",
              "      <td>0</td>\n",
              "      <td>3</td>\n",
              "      <td>1</td>\n",
              "      <td>35.0</td>\n",
              "      <td>0</td>\n",
              "      <td>0</td>\n",
              "      <td>8.0500</td>\n",
              "      <td>2</td>\n",
              "    </tr>\n",
              "  </tbody>\n",
              "</table>\n",
              "</div>"
            ],
            "text/plain": [
              "   Survived  Pclass  Sex   Age  SibSp  Parch     Fare  Embarked\n",
              "0         0       3    1  22.0      1      0   7.2500         2\n",
              "1         1       1    0  38.0      1      0  71.2833         0\n",
              "2         1       3    0  26.0      0      0   7.9250         2\n",
              "3         1       1    0  35.0      1      0  53.1000         2\n",
              "4         0       3    1  35.0      0      0   8.0500         2"
            ]
          },
          "metadata": {},
          "execution_count": 16
        }
      ]
    },
    {
      "cell_type": "code",
      "metadata": {
        "id": "43LmrmaKnVuc"
      },
      "source": [
        "x=df.iloc[:,1:-1]\n",
        "y=df.iloc[:,0]"
      ],
      "execution_count": 17,
      "outputs": []
    },
    {
      "cell_type": "code",
      "metadata": {
        "id": "Mi2tBNjxnQU4"
      },
      "source": [
        "from sklearn.model_selection import train_test_split\n",
        "x_train,x_test,y_train,y_test=train_test_split(x,y,test_size=0.2)"
      ],
      "execution_count": 18,
      "outputs": []
    },
    {
      "cell_type": "code",
      "metadata": {
        "colab": {
          "base_uri": "https://localhost:8080/"
        },
        "id": "yq52mMy1nP9n",
        "outputId": "fe8c485a-82d0-44ce-8a36-e6365250cbbb"
      },
      "source": [
        "print(x_train.shape)\n",
        "print(x_test.shape)\n",
        "print(y_train.shape)\n",
        "print(y_test.shape)"
      ],
      "execution_count": 19,
      "outputs": [
        {
          "output_type": "stream",
          "name": "stdout",
          "text": [
            "(712, 6)\n",
            "(179, 6)\n",
            "(712,)\n",
            "(179,)\n"
          ]
        }
      ]
    },
    {
      "cell_type": "code",
      "metadata": {
        "id": "zjHvNCtunGNA"
      },
      "source": [
        "mod=Sequential()\n",
        "mod.add(Dense(12,activation='relu',input_dim=6))\n",
        "mod.add(Dense(8,activation='relu'))\n",
        "mod.add(Dense(1,activation='sigmoid'))"
      ],
      "execution_count": 20,
      "outputs": []
    },
    {
      "cell_type": "code",
      "metadata": {
        "id": "xABskQ6Ppmgb"
      },
      "source": [
        "mod.compile(optimizer='adam',loss='binary_crossentropy',metrics=['accuracy'])"
      ],
      "execution_count": 21,
      "outputs": []
    },
    {
      "cell_type": "code",
      "metadata": {
        "colab": {
          "base_uri": "https://localhost:8080/"
        },
        "id": "VLOZadsmpPyh",
        "outputId": "37e84c19-59f2-4a80-f502-42ace53a0050"
      },
      "source": [
        "m1=mod.fit(x_train,y_train,epochs=100,validation_data=(x_test,y_test))"
      ],
      "execution_count": 22,
      "outputs": [
        {
          "output_type": "stream",
          "name": "stdout",
          "text": [
            "Epoch 1/100\n",
            "23/23 [==============================] - 1s 13ms/step - loss: 4.8349 - accuracy: 0.3287 - val_loss: 2.7544 - val_accuracy: 0.3855\n",
            "Epoch 2/100\n",
            "23/23 [==============================] - 0s 2ms/step - loss: 2.8787 - accuracy: 0.3188 - val_loss: 1.4526 - val_accuracy: 0.3687\n",
            "Epoch 3/100\n",
            "23/23 [==============================] - 0s 2ms/step - loss: 1.2276 - accuracy: 0.3708 - val_loss: 0.6940 - val_accuracy: 0.5754\n",
            "Epoch 4/100\n",
            "23/23 [==============================] - 0s 3ms/step - loss: 0.6208 - accuracy: 0.6475 - val_loss: 0.6530 - val_accuracy: 0.6369\n",
            "Epoch 5/100\n",
            "23/23 [==============================] - 0s 3ms/step - loss: 0.5828 - accuracy: 0.6952 - val_loss: 0.6409 - val_accuracy: 0.6369\n",
            "Epoch 6/100\n",
            "23/23 [==============================] - 0s 3ms/step - loss: 0.5719 - accuracy: 0.6980 - val_loss: 0.6258 - val_accuracy: 0.6369\n",
            "Epoch 7/100\n",
            "23/23 [==============================] - 0s 2ms/step - loss: 0.5665 - accuracy: 0.6980 - val_loss: 0.6178 - val_accuracy: 0.6425\n",
            "Epoch 8/100\n",
            "23/23 [==============================] - 0s 2ms/step - loss: 0.5640 - accuracy: 0.6994 - val_loss: 0.6198 - val_accuracy: 0.6648\n",
            "Epoch 9/100\n",
            "23/23 [==============================] - 0s 2ms/step - loss: 0.5713 - accuracy: 0.6924 - val_loss: 0.6170 - val_accuracy: 0.6536\n",
            "Epoch 10/100\n",
            "23/23 [==============================] - 0s 2ms/step - loss: 0.5598 - accuracy: 0.6994 - val_loss: 0.6102 - val_accuracy: 0.6536\n",
            "Epoch 11/100\n",
            "23/23 [==============================] - 0s 3ms/step - loss: 0.5563 - accuracy: 0.6966 - val_loss: 0.6081 - val_accuracy: 0.6648\n",
            "Epoch 12/100\n",
            "23/23 [==============================] - 0s 2ms/step - loss: 0.5610 - accuracy: 0.7008 - val_loss: 0.6034 - val_accuracy: 0.6425\n",
            "Epoch 13/100\n",
            "23/23 [==============================] - 0s 2ms/step - loss: 0.5607 - accuracy: 0.6952 - val_loss: 0.6010 - val_accuracy: 0.6648\n",
            "Epoch 14/100\n",
            "23/23 [==============================] - 0s 2ms/step - loss: 0.5563 - accuracy: 0.6994 - val_loss: 0.6012 - val_accuracy: 0.6536\n",
            "Epoch 15/100\n",
            "23/23 [==============================] - 0s 3ms/step - loss: 0.5561 - accuracy: 0.7051 - val_loss: 0.5960 - val_accuracy: 0.6704\n",
            "Epoch 16/100\n",
            "23/23 [==============================] - 0s 3ms/step - loss: 0.5499 - accuracy: 0.7079 - val_loss: 0.6007 - val_accuracy: 0.6816\n",
            "Epoch 17/100\n",
            "23/23 [==============================] - 0s 3ms/step - loss: 0.5707 - accuracy: 0.7022 - val_loss: 0.6026 - val_accuracy: 0.6872\n",
            "Epoch 18/100\n",
            "23/23 [==============================] - 0s 2ms/step - loss: 0.5531 - accuracy: 0.7065 - val_loss: 0.5937 - val_accuracy: 0.6760\n",
            "Epoch 19/100\n",
            "23/23 [==============================] - 0s 3ms/step - loss: 0.5451 - accuracy: 0.7121 - val_loss: 0.5866 - val_accuracy: 0.6704\n",
            "Epoch 20/100\n",
            "23/23 [==============================] - 0s 2ms/step - loss: 0.5431 - accuracy: 0.7065 - val_loss: 0.5933 - val_accuracy: 0.6872\n",
            "Epoch 21/100\n",
            "23/23 [==============================] - 0s 3ms/step - loss: 0.5422 - accuracy: 0.7079 - val_loss: 0.5891 - val_accuracy: 0.6648\n",
            "Epoch 22/100\n",
            "23/23 [==============================] - 0s 2ms/step - loss: 0.5427 - accuracy: 0.7149 - val_loss: 0.5840 - val_accuracy: 0.6872\n",
            "Epoch 23/100\n",
            "23/23 [==============================] - 0s 2ms/step - loss: 0.5440 - accuracy: 0.7135 - val_loss: 0.5953 - val_accuracy: 0.6983\n",
            "Epoch 24/100\n",
            "23/23 [==============================] - 0s 2ms/step - loss: 0.5418 - accuracy: 0.7261 - val_loss: 0.5965 - val_accuracy: 0.6983\n",
            "Epoch 25/100\n",
            "23/23 [==============================] - 0s 2ms/step - loss: 0.5488 - accuracy: 0.7191 - val_loss: 0.5795 - val_accuracy: 0.6872\n",
            "Epoch 26/100\n",
            "23/23 [==============================] - 0s 3ms/step - loss: 0.5389 - accuracy: 0.7177 - val_loss: 0.5759 - val_accuracy: 0.6592\n",
            "Epoch 27/100\n",
            "23/23 [==============================] - 0s 3ms/step - loss: 0.5419 - accuracy: 0.7205 - val_loss: 0.5754 - val_accuracy: 0.6872\n",
            "Epoch 28/100\n",
            "23/23 [==============================] - 0s 3ms/step - loss: 0.5449 - accuracy: 0.7163 - val_loss: 0.5626 - val_accuracy: 0.6816\n",
            "Epoch 29/100\n",
            "23/23 [==============================] - 0s 2ms/step - loss: 0.5302 - accuracy: 0.7219 - val_loss: 0.5668 - val_accuracy: 0.6704\n",
            "Epoch 30/100\n",
            "23/23 [==============================] - 0s 2ms/step - loss: 0.5333 - accuracy: 0.7121 - val_loss: 0.5602 - val_accuracy: 0.6872\n",
            "Epoch 31/100\n",
            "23/23 [==============================] - 0s 2ms/step - loss: 0.5323 - accuracy: 0.7331 - val_loss: 0.5705 - val_accuracy: 0.6704\n",
            "Epoch 32/100\n",
            "23/23 [==============================] - 0s 2ms/step - loss: 0.5288 - accuracy: 0.7233 - val_loss: 0.5577 - val_accuracy: 0.6816\n",
            "Epoch 33/100\n",
            "23/23 [==============================] - 0s 2ms/step - loss: 0.5185 - accuracy: 0.7317 - val_loss: 0.5757 - val_accuracy: 0.7263\n",
            "Epoch 34/100\n",
            "23/23 [==============================] - 0s 2ms/step - loss: 0.5309 - accuracy: 0.7163 - val_loss: 0.5558 - val_accuracy: 0.6760\n",
            "Epoch 35/100\n",
            "23/23 [==============================] - 0s 2ms/step - loss: 0.5171 - accuracy: 0.7247 - val_loss: 0.5580 - val_accuracy: 0.7207\n",
            "Epoch 36/100\n",
            "23/23 [==============================] - 0s 2ms/step - loss: 0.5188 - accuracy: 0.7289 - val_loss: 0.5604 - val_accuracy: 0.7095\n",
            "Epoch 37/100\n",
            "23/23 [==============================] - 0s 2ms/step - loss: 0.5206 - accuracy: 0.7303 - val_loss: 0.5540 - val_accuracy: 0.7207\n",
            "Epoch 38/100\n",
            "23/23 [==============================] - 0s 2ms/step - loss: 0.5192 - accuracy: 0.7317 - val_loss: 0.5406 - val_accuracy: 0.6927\n",
            "Epoch 39/100\n",
            "23/23 [==============================] - 0s 2ms/step - loss: 0.5132 - accuracy: 0.7416 - val_loss: 0.5517 - val_accuracy: 0.7151\n",
            "Epoch 40/100\n",
            "23/23 [==============================] - 0s 2ms/step - loss: 0.5189 - accuracy: 0.7275 - val_loss: 0.5487 - val_accuracy: 0.7151\n",
            "Epoch 41/100\n",
            "23/23 [==============================] - 0s 2ms/step - loss: 0.5113 - accuracy: 0.7289 - val_loss: 0.5726 - val_accuracy: 0.7374\n",
            "Epoch 42/100\n",
            "23/23 [==============================] - 0s 3ms/step - loss: 0.5156 - accuracy: 0.7360 - val_loss: 0.5400 - val_accuracy: 0.6872\n",
            "Epoch 43/100\n",
            "23/23 [==============================] - 0s 2ms/step - loss: 0.5145 - accuracy: 0.7486 - val_loss: 0.5322 - val_accuracy: 0.6872\n",
            "Epoch 44/100\n",
            "23/23 [==============================] - 0s 2ms/step - loss: 0.5188 - accuracy: 0.7275 - val_loss: 0.5319 - val_accuracy: 0.6872\n",
            "Epoch 45/100\n",
            "23/23 [==============================] - 0s 2ms/step - loss: 0.5099 - accuracy: 0.7374 - val_loss: 0.5309 - val_accuracy: 0.6983\n",
            "Epoch 46/100\n",
            "23/23 [==============================] - 0s 3ms/step - loss: 0.5092 - accuracy: 0.7388 - val_loss: 0.5301 - val_accuracy: 0.6872\n",
            "Epoch 47/100\n",
            "23/23 [==============================] - 0s 2ms/step - loss: 0.5024 - accuracy: 0.7430 - val_loss: 0.5285 - val_accuracy: 0.7207\n",
            "Epoch 48/100\n",
            "23/23 [==============================] - 0s 2ms/step - loss: 0.5228 - accuracy: 0.7486 - val_loss: 0.5372 - val_accuracy: 0.6872\n",
            "Epoch 49/100\n",
            "23/23 [==============================] - 0s 2ms/step - loss: 0.5154 - accuracy: 0.7402 - val_loss: 0.5320 - val_accuracy: 0.7095\n",
            "Epoch 50/100\n",
            "23/23 [==============================] - 0s 2ms/step - loss: 0.5048 - accuracy: 0.7528 - val_loss: 0.5498 - val_accuracy: 0.8045\n",
            "Epoch 51/100\n",
            "23/23 [==============================] - 0s 2ms/step - loss: 0.4947 - accuracy: 0.7514 - val_loss: 0.5208 - val_accuracy: 0.7039\n",
            "Epoch 52/100\n",
            "23/23 [==============================] - 0s 2ms/step - loss: 0.4943 - accuracy: 0.7514 - val_loss: 0.5196 - val_accuracy: 0.7598\n",
            "Epoch 53/100\n",
            "23/23 [==============================] - 0s 2ms/step - loss: 0.5011 - accuracy: 0.7598 - val_loss: 0.5375 - val_accuracy: 0.8101\n",
            "Epoch 54/100\n",
            "23/23 [==============================] - 0s 2ms/step - loss: 0.5208 - accuracy: 0.7528 - val_loss: 0.5497 - val_accuracy: 0.7989\n",
            "Epoch 55/100\n",
            "23/23 [==============================] - 0s 2ms/step - loss: 0.5098 - accuracy: 0.7444 - val_loss: 0.5400 - val_accuracy: 0.7989\n",
            "Epoch 56/100\n",
            "23/23 [==============================] - 0s 2ms/step - loss: 0.4985 - accuracy: 0.7472 - val_loss: 0.5168 - val_accuracy: 0.7821\n",
            "Epoch 57/100\n",
            "23/23 [==============================] - 0s 2ms/step - loss: 0.4887 - accuracy: 0.7598 - val_loss: 0.5244 - val_accuracy: 0.7765\n",
            "Epoch 58/100\n",
            "23/23 [==============================] - 0s 3ms/step - loss: 0.4955 - accuracy: 0.7416 - val_loss: 0.5121 - val_accuracy: 0.7486\n",
            "Epoch 59/100\n",
            "23/23 [==============================] - 0s 2ms/step - loss: 0.4906 - accuracy: 0.7612 - val_loss: 0.5014 - val_accuracy: 0.7486\n",
            "Epoch 60/100\n",
            "23/23 [==============================] - 0s 2ms/step - loss: 0.4880 - accuracy: 0.7584 - val_loss: 0.5054 - val_accuracy: 0.7989\n",
            "Epoch 61/100\n",
            "23/23 [==============================] - 0s 3ms/step - loss: 0.4832 - accuracy: 0.7542 - val_loss: 0.4985 - val_accuracy: 0.7654\n",
            "Epoch 62/100\n",
            "23/23 [==============================] - 0s 3ms/step - loss: 0.4842 - accuracy: 0.7598 - val_loss: 0.5018 - val_accuracy: 0.7542\n",
            "Epoch 63/100\n",
            "23/23 [==============================] - 0s 3ms/step - loss: 0.4877 - accuracy: 0.7683 - val_loss: 0.4951 - val_accuracy: 0.7989\n",
            "Epoch 64/100\n",
            "23/23 [==============================] - 0s 2ms/step - loss: 0.4795 - accuracy: 0.7570 - val_loss: 0.5233 - val_accuracy: 0.8045\n",
            "Epoch 65/100\n",
            "23/23 [==============================] - 0s 2ms/step - loss: 0.4917 - accuracy: 0.7612 - val_loss: 0.5002 - val_accuracy: 0.7654\n",
            "Epoch 66/100\n",
            "23/23 [==============================] - 0s 2ms/step - loss: 0.4800 - accuracy: 0.7598 - val_loss: 0.4925 - val_accuracy: 0.7821\n",
            "Epoch 67/100\n",
            "23/23 [==============================] - 0s 2ms/step - loss: 0.4867 - accuracy: 0.7683 - val_loss: 0.4985 - val_accuracy: 0.7877\n",
            "Epoch 68/100\n",
            "23/23 [==============================] - 0s 2ms/step - loss: 0.4863 - accuracy: 0.7697 - val_loss: 0.4884 - val_accuracy: 0.7989\n",
            "Epoch 69/100\n",
            "23/23 [==============================] - 0s 2ms/step - loss: 0.4815 - accuracy: 0.7640 - val_loss: 0.4908 - val_accuracy: 0.7877\n",
            "Epoch 70/100\n",
            "23/23 [==============================] - 0s 2ms/step - loss: 0.4764 - accuracy: 0.7725 - val_loss: 0.4811 - val_accuracy: 0.7989\n",
            "Epoch 71/100\n",
            "23/23 [==============================] - 0s 2ms/step - loss: 0.4745 - accuracy: 0.7683 - val_loss: 0.5135 - val_accuracy: 0.7989\n",
            "Epoch 72/100\n",
            "23/23 [==============================] - 0s 2ms/step - loss: 0.4858 - accuracy: 0.7697 - val_loss: 0.4813 - val_accuracy: 0.7877\n",
            "Epoch 73/100\n",
            "23/23 [==============================] - 0s 3ms/step - loss: 0.4952 - accuracy: 0.7683 - val_loss: 0.4918 - val_accuracy: 0.7989\n",
            "Epoch 74/100\n",
            "23/23 [==============================] - 0s 3ms/step - loss: 0.4897 - accuracy: 0.7640 - val_loss: 0.4823 - val_accuracy: 0.8045\n",
            "Epoch 75/100\n",
            "23/23 [==============================] - 0s 2ms/step - loss: 0.4877 - accuracy: 0.7767 - val_loss: 0.4914 - val_accuracy: 0.7821\n",
            "Epoch 76/100\n",
            "23/23 [==============================] - 0s 3ms/step - loss: 0.5041 - accuracy: 0.7528 - val_loss: 0.4866 - val_accuracy: 0.7933\n",
            "Epoch 77/100\n",
            "23/23 [==============================] - 0s 2ms/step - loss: 0.4887 - accuracy: 0.7626 - val_loss: 0.4872 - val_accuracy: 0.8045\n",
            "Epoch 78/100\n",
            "23/23 [==============================] - 0s 2ms/step - loss: 0.4787 - accuracy: 0.7528 - val_loss: 0.4739 - val_accuracy: 0.8045\n",
            "Epoch 79/100\n",
            "23/23 [==============================] - 0s 2ms/step - loss: 0.4709 - accuracy: 0.7711 - val_loss: 0.4777 - val_accuracy: 0.8045\n",
            "Epoch 80/100\n",
            "23/23 [==============================] - 0s 2ms/step - loss: 0.4860 - accuracy: 0.7697 - val_loss: 0.4781 - val_accuracy: 0.8045\n",
            "Epoch 81/100\n",
            "23/23 [==============================] - 0s 2ms/step - loss: 0.4735 - accuracy: 0.7598 - val_loss: 0.4739 - val_accuracy: 0.8045\n",
            "Epoch 82/100\n",
            "23/23 [==============================] - 0s 3ms/step - loss: 0.4709 - accuracy: 0.7739 - val_loss: 0.4703 - val_accuracy: 0.7989\n",
            "Epoch 83/100\n",
            "23/23 [==============================] - 0s 3ms/step - loss: 0.4702 - accuracy: 0.7711 - val_loss: 0.4681 - val_accuracy: 0.8156\n",
            "Epoch 84/100\n",
            "23/23 [==============================] - 0s 3ms/step - loss: 0.4817 - accuracy: 0.7837 - val_loss: 0.4928 - val_accuracy: 0.7933\n",
            "Epoch 85/100\n",
            "23/23 [==============================] - 0s 2ms/step - loss: 0.4676 - accuracy: 0.7823 - val_loss: 0.4691 - val_accuracy: 0.8156\n",
            "Epoch 86/100\n",
            "23/23 [==============================] - 0s 3ms/step - loss: 0.4669 - accuracy: 0.7809 - val_loss: 0.4730 - val_accuracy: 0.8101\n",
            "Epoch 87/100\n",
            "23/23 [==============================] - 0s 3ms/step - loss: 0.4692 - accuracy: 0.7739 - val_loss: 0.4655 - val_accuracy: 0.7989\n",
            "Epoch 88/100\n",
            "23/23 [==============================] - 0s 3ms/step - loss: 0.4637 - accuracy: 0.7837 - val_loss: 0.4684 - val_accuracy: 0.8156\n",
            "Epoch 89/100\n",
            "23/23 [==============================] - 0s 2ms/step - loss: 0.4720 - accuracy: 0.7725 - val_loss: 0.4824 - val_accuracy: 0.7989\n",
            "Epoch 90/100\n",
            "23/23 [==============================] - 0s 2ms/step - loss: 0.4689 - accuracy: 0.7725 - val_loss: 0.4633 - val_accuracy: 0.8156\n",
            "Epoch 91/100\n",
            "23/23 [==============================] - 0s 2ms/step - loss: 0.4685 - accuracy: 0.7767 - val_loss: 0.4618 - val_accuracy: 0.8101\n",
            "Epoch 92/100\n",
            "23/23 [==============================] - 0s 3ms/step - loss: 0.4681 - accuracy: 0.7767 - val_loss: 0.4594 - val_accuracy: 0.8045\n",
            "Epoch 93/100\n",
            "23/23 [==============================] - 0s 3ms/step - loss: 0.4632 - accuracy: 0.7795 - val_loss: 0.4687 - val_accuracy: 0.7989\n",
            "Epoch 94/100\n",
            "23/23 [==============================] - 0s 2ms/step - loss: 0.4648 - accuracy: 0.7697 - val_loss: 0.4887 - val_accuracy: 0.8156\n",
            "Epoch 95/100\n",
            "23/23 [==============================] - 0s 2ms/step - loss: 0.4645 - accuracy: 0.7781 - val_loss: 0.4630 - val_accuracy: 0.8101\n",
            "Epoch 96/100\n",
            "23/23 [==============================] - 0s 3ms/step - loss: 0.4636 - accuracy: 0.7823 - val_loss: 0.4626 - val_accuracy: 0.8101\n",
            "Epoch 97/100\n",
            "23/23 [==============================] - 0s 2ms/step - loss: 0.4700 - accuracy: 0.7921 - val_loss: 0.4699 - val_accuracy: 0.8045\n",
            "Epoch 98/100\n",
            "23/23 [==============================] - 0s 3ms/step - loss: 0.4620 - accuracy: 0.8020 - val_loss: 0.4651 - val_accuracy: 0.8101\n",
            "Epoch 99/100\n",
            "23/23 [==============================] - 0s 2ms/step - loss: 0.4626 - accuracy: 0.7851 - val_loss: 0.4598 - val_accuracy: 0.8156\n",
            "Epoch 100/100\n",
            "23/23 [==============================] - 0s 2ms/step - loss: 0.4584 - accuracy: 0.7851 - val_loss: 0.4657 - val_accuracy: 0.8045\n"
          ]
        }
      ]
    },
    {
      "cell_type": "code",
      "metadata": {
        "colab": {
          "base_uri": "https://localhost:8080/",
          "height": 205
        },
        "id": "uySJ9Fp1peys",
        "outputId": "54e54d90-caf5-45d7-c5ac-1d4c89ce447e"
      },
      "source": [
        "res=pd.DataFrame(m1.history)\n",
        "res['Epochs']=range(1,101)\n",
        "res.tail()"
      ],
      "execution_count": 23,
      "outputs": [
        {
          "output_type": "execute_result",
          "data": {
            "text/html": [
              "<div>\n",
              "<style scoped>\n",
              "    .dataframe tbody tr th:only-of-type {\n",
              "        vertical-align: middle;\n",
              "    }\n",
              "\n",
              "    .dataframe tbody tr th {\n",
              "        vertical-align: top;\n",
              "    }\n",
              "\n",
              "    .dataframe thead th {\n",
              "        text-align: right;\n",
              "    }\n",
              "</style>\n",
              "<table border=\"1\" class=\"dataframe\">\n",
              "  <thead>\n",
              "    <tr style=\"text-align: right;\">\n",
              "      <th></th>\n",
              "      <th>loss</th>\n",
              "      <th>accuracy</th>\n",
              "      <th>val_loss</th>\n",
              "      <th>val_accuracy</th>\n",
              "      <th>Epochs</th>\n",
              "    </tr>\n",
              "  </thead>\n",
              "  <tbody>\n",
              "    <tr>\n",
              "      <th>95</th>\n",
              "      <td>0.463602</td>\n",
              "      <td>0.782303</td>\n",
              "      <td>0.462623</td>\n",
              "      <td>0.810056</td>\n",
              "      <td>96</td>\n",
              "    </tr>\n",
              "    <tr>\n",
              "      <th>96</th>\n",
              "      <td>0.470034</td>\n",
              "      <td>0.792135</td>\n",
              "      <td>0.469904</td>\n",
              "      <td>0.804469</td>\n",
              "      <td>97</td>\n",
              "    </tr>\n",
              "    <tr>\n",
              "      <th>97</th>\n",
              "      <td>0.461999</td>\n",
              "      <td>0.801966</td>\n",
              "      <td>0.465149</td>\n",
              "      <td>0.810056</td>\n",
              "      <td>98</td>\n",
              "    </tr>\n",
              "    <tr>\n",
              "      <th>98</th>\n",
              "      <td>0.462620</td>\n",
              "      <td>0.785112</td>\n",
              "      <td>0.459815</td>\n",
              "      <td>0.815642</td>\n",
              "      <td>99</td>\n",
              "    </tr>\n",
              "    <tr>\n",
              "      <th>99</th>\n",
              "      <td>0.458380</td>\n",
              "      <td>0.785112</td>\n",
              "      <td>0.465726</td>\n",
              "      <td>0.804469</td>\n",
              "      <td>100</td>\n",
              "    </tr>\n",
              "  </tbody>\n",
              "</table>\n",
              "</div>"
            ],
            "text/plain": [
              "        loss  accuracy  val_loss  val_accuracy  Epochs\n",
              "95  0.463602  0.782303  0.462623      0.810056      96\n",
              "96  0.470034  0.792135  0.469904      0.804469      97\n",
              "97  0.461999  0.801966  0.465149      0.810056      98\n",
              "98  0.462620  0.785112  0.459815      0.815642      99\n",
              "99  0.458380  0.785112  0.465726      0.804469     100"
            ]
          },
          "metadata": {},
          "execution_count": 23
        }
      ]
    },
    {
      "cell_type": "code",
      "metadata": {
        "colab": {
          "base_uri": "https://localhost:8080/",
          "height": 267
        },
        "id": "t3BfkLTbtIpU",
        "outputId": "cb02a24c-432b-4cbb-f499-26897a366e6a"
      },
      "source": [
        "plt.plot(res['Epochs'],res['loss'],label='Training Loss')\n",
        "plt.plot(res['Epochs'],res['val_loss'],label='Testing Loss')\n",
        "plt.legend()\n",
        "plt.show()"
      ],
      "execution_count": 24,
      "outputs": [
        {
          "output_type": "display_data",
          "data": {
            "image/png": "[encoded data removed]",
            "text/plain": [
              "<Figure size 432x288 with 1 Axes>"
            ]
          },
          "metadata": {
            "needs_background": "light"
          }
        }
      ]
    },
    {
      "cell_type": "code",
      "metadata": {
        "id": "OSkV1fw5tYKU",
        "colab": {
          "base_uri": "https://localhost:8080/"
        },
        "outputId": "9b8b487b-6ca7-4cf5-ff4b-98aa4382bde4"
      },
      "source": [
        "y_pred=mod.predict(x_test)\n",
        "y_pred"
      ],
      "execution_count": 34,
      "outputs": [
        {
          "output_type": "execute_result",
          "data": {
            "text/plain": [
              "array([[0.20815235],\n",
              "       [0.5801919 ],\n",
              "       [0.14450595],\n",
              "       [0.6690688 ],\n",
              "       [0.18510526],\n",
              "       [0.11016995],\n",
              "       [0.72578394],\n",
              "       [0.70669734],\n",
              "       [0.12197384],\n",
              "       [0.42528293],\n",
              "       [0.36137074],\n",
              "       [0.3387773 ],\n",
              "       [0.8295381 ],\n",
              "       [0.11622551],\n",
              "       [0.8804097 ],\n",
              "       [0.664981  ],\n",
              "       [0.42240354],\n",
              "       [0.5728248 ],\n",
              "       [0.17807242],\n",
              "       [0.17534572],\n",
              "       [0.12543121],\n",
              "       [0.08536851],\n",
              "       [0.5467144 ],\n",
              "       [0.5567848 ],\n",
              "       [0.6420852 ],\n",
              "       [0.11191469],\n",
              "       [0.17558151],\n",
              "       [0.09196213],\n",
              "       [0.14097002],\n",
              "       [0.44837272],\n",
              "       [0.11318117],\n",
              "       [0.10311836],\n",
              "       [0.9246395 ],\n",
              "       [0.11792853],\n",
              "       [0.10899109],\n",
              "       [0.74233764],\n",
              "       [0.13410243],\n",
              "       [0.68886673],\n",
              "       [0.14036113],\n",
              "       [0.65525585],\n",
              "       [0.10981932],\n",
              "       [0.14151272],\n",
              "       [0.12848553],\n",
              "       [0.1031183 ],\n",
              "       [0.47532696],\n",
              "       [0.21589601],\n",
              "       [0.11400148],\n",
              "       [0.24183777],\n",
              "       [0.08820161],\n",
              "       [0.07563612],\n",
              "       [0.10877141],\n",
              "       [0.5871123 ],\n",
              "       [0.10048908],\n",
              "       [0.66586936],\n",
              "       [0.588688  ],\n",
              "       [0.61346567],\n",
              "       [0.1013858 ],\n",
              "       [0.574687  ],\n",
              "       [0.17588106],\n",
              "       [0.850762  ],\n",
              "       [0.84348536],\n",
              "       [0.57989275],\n",
              "       [0.94931215],\n",
              "       [0.14540353],\n",
              "       [0.681055  ],\n",
              "       [0.15489712],\n",
              "       [0.09852517],\n",
              "       [0.9841955 ],\n",
              "       [0.14840177],\n",
              "       [0.750331  ],\n",
              "       [0.14283529],\n",
              "       [0.6826954 ],\n",
              "       [0.08977035],\n",
              "       [0.10874638],\n",
              "       [0.16205135],\n",
              "       [0.9363565 ],\n",
              "       [0.10899109],\n",
              "       [0.1049099 ],\n",
              "       [0.05993155],\n",
              "       [0.91848385],\n",
              "       [0.18134761],\n",
              "       [0.33437204],\n",
              "       [0.4592882 ],\n",
              "       [0.38891536],\n",
              "       [0.67300457],\n",
              "       [0.38856363],\n",
              "       [0.11096454],\n",
              "       [0.10744724],\n",
              "       [0.14447549],\n",
              "       [0.11214349],\n",
              "       [0.66506183],\n",
              "       [0.69336534],\n",
              "       [0.10877141],\n",
              "       [0.16375732],\n",
              "       [0.9503207 ],\n",
              "       [0.6213175 ],\n",
              "       [0.66422385],\n",
              "       [0.37302798],\n",
              "       [0.15033752],\n",
              "       [0.1228911 ],\n",
              "       [0.10981932],\n",
              "       [0.11257321],\n",
              "       [0.13358173],\n",
              "       [0.13191018],\n",
              "       [0.5884425 ],\n",
              "       [0.7208724 ],\n",
              "       [0.3806487 ],\n",
              "       [0.58038133],\n",
              "       [0.68038267],\n",
              "       [0.6018126 ],\n",
              "       [0.90703726],\n",
              "       [0.50680304],\n",
              "       [0.14304146],\n",
              "       [0.10377735],\n",
              "       [0.9473484 ],\n",
              "       [0.74598426],\n",
              "       [0.10877141],\n",
              "       [0.11159238],\n",
              "       [0.118036  ],\n",
              "       [0.13905737],\n",
              "       [0.09578231],\n",
              "       [0.1144467 ],\n",
              "       [0.7158774 ],\n",
              "       [0.64073837],\n",
              "       [0.10899109],\n",
              "       [0.10230055],\n",
              "       [0.20173088],\n",
              "       [0.60898083],\n",
              "       [0.12018666],\n",
              "       [0.32158905],\n",
              "       [0.10981932],\n",
              "       [0.79295063],\n",
              "       [0.19971755],\n",
              "       [0.84341526],\n",
              "       [0.96101093],\n",
              "       [0.08425474],\n",
              "       [0.9318309 ],\n",
              "       [0.09711337],\n",
              "       [0.25217664],\n",
              "       [0.10799015],\n",
              "       [0.13691032],\n",
              "       [0.7125735 ],\n",
              "       [0.3770321 ],\n",
              "       [0.18586871],\n",
              "       [0.08047923],\n",
              "       [0.17275319],\n",
              "       [0.11980993],\n",
              "       [0.6233308 ],\n",
              "       [0.7384374 ],\n",
              "       [0.42599583],\n",
              "       [0.32925114],\n",
              "       [0.15280154],\n",
              "       [0.70289344],\n",
              "       [0.15961626],\n",
              "       [0.87950695],\n",
              "       [0.09249982],\n",
              "       [0.06532884],\n",
              "       [0.47581622],\n",
              "       [0.2451995 ],\n",
              "       [0.14208686],\n",
              "       [0.14587396],\n",
              "       [0.6847388 ],\n",
              "       [0.3860562 ],\n",
              "       [0.63493484],\n",
              "       [0.9078653 ],\n",
              "       [0.31452078],\n",
              "       [0.2726542 ],\n",
              "       [0.58102685],\n",
              "       [0.17410508],\n",
              "       [0.15648007],\n",
              "       [0.44409305],\n",
              "       [0.10799015],\n",
              "       [0.91770536],\n",
              "       [0.40248024],\n",
              "       [0.50601363],\n",
              "       [0.73511314],\n",
              "       [0.5016801 ],\n",
              "       [0.94219756],\n",
              "       [0.90149015]], dtype=float32)"
            ]
          },
          "metadata": {},
          "execution_count": 34
        }
      ]
    },
    {
      "cell_type": "code",
      "metadata": {
        "colab": {
          "base_uri": "https://localhost:8080/"
        },
        "id": "PHYuvBE5AnsG",
        "outputId": "5f5d5a2a-07d2-4aee-f3bd-d7d743e137bb"
      },
      "source": [
        "y_pred1 = [int(p>=0.6) for p in y_pred]\n",
        "y_pred1"
      ],
      "execution_count": 39,
      "outputs": [
        {
          "output_type": "execute_result",
          "data": {
            "text/plain": [
              "[0,\n",
              " 0,\n",
              " 0,\n",
              " 1,\n",
              " 0,\n",
              " 0,\n",
              " 1,\n",
              " 1,\n",
              " 0,\n",
              " 0,\n",
              " 0,\n",
              " 0,\n",
              " 1,\n",
              " 0,\n",
              " 1,\n",
              " 1,\n",
              " 0,\n",
              " 0,\n",
              " 0,\n",
              " 0,\n",
              " 0,\n",
              " 0,\n",
              " 0,\n",
              " 0,\n",
              " 1,\n",
              " 0,\n",
              " 0,\n",
              " 0,\n",
              " 0,\n",
              " 0,\n",
              " 0,\n",
              " 0,\n",
              " 1,\n",
              " 0,\n",
              " 0,\n",
              " 1,\n",
              " 0,\n",
              " 1,\n",
              " 0,\n",
              " 1,\n",
              " 0,\n",
              " 0,\n",
              " 0,\n",
              " 0,\n",
              " 0,\n",
              " 0,\n",
              " 0,\n",
              " 0,\n",
              " 0,\n",
              " 0,\n",
              " 0,\n",
              " 0,\n",
              " 0,\n",
              " 1,\n",
              " 0,\n",
              " 1,\n",
              " 0,\n",
              " 0,\n",
              " 0,\n",
              " 1,\n",
              " 1,\n",
              " 0,\n",
              " 1,\n",
              " 0,\n",
              " 1,\n",
              " 0,\n",
              " 0,\n",
              " 1,\n",
              " 0,\n",
              " 1,\n",
              " 0,\n",
              " 1,\n",
              " 0,\n",
              " 0,\n",
              " 0,\n",
              " 1,\n",
              " 0,\n",
              " 0,\n",
              " 0,\n",
              " 1,\n",
              " 0,\n",
              " 0,\n",
              " 0,\n",
              " 0,\n",
              " 1,\n",
              " 0,\n",
              " 0,\n",
              " 0,\n",
              " 0,\n",
              " 0,\n",
              " 1,\n",
              " 1,\n",
              " 0,\n",
              " 0,\n",
              " 1,\n",
              " 1,\n",
              " 1,\n",
              " 0,\n",
              " 0,\n",
              " 0,\n",
              " 0,\n",
              " 0,\n",
              " 0,\n",
              " 0,\n",
              " 0,\n",
              " 1,\n",
              " 0,\n",
              " 0,\n",
              " 1,\n",
              " 1,\n",
              " 1,\n",
              " 0,\n",
              " 0,\n",
              " 0,\n",
              " 1,\n",
              " 1,\n",
              " 0,\n",
              " 0,\n",
              " 0,\n",
              " 0,\n",
              " 0,\n",
              " 0,\n",
              " 1,\n",
              " 1,\n",
              " 0,\n",
              " 0,\n",
              " 0,\n",
              " 1,\n",
              " 0,\n",
              " 0,\n",
              " 0,\n",
              " 1,\n",
              " 0,\n",
              " 1,\n",
              " 1,\n",
              " 0,\n",
              " 1,\n",
              " 0,\n",
              " 0,\n",
              " 0,\n",
              " 0,\n",
              " 1,\n",
              " 0,\n",
              " 0,\n",
              " 0,\n",
              " 0,\n",
              " 0,\n",
              " 1,\n",
              " 1,\n",
              " 0,\n",
              " 0,\n",
              " 0,\n",
              " 1,\n",
              " 0,\n",
              " 1,\n",
              " 0,\n",
              " 0,\n",
              " 0,\n",
              " 0,\n",
              " 0,\n",
              " 0,\n",
              " 1,\n",
              " 0,\n",
              " 1,\n",
              " 1,\n",
              " 0,\n",
              " 0,\n",
              " 0,\n",
              " 0,\n",
              " 0,\n",
              " 0,\n",
              " 0,\n",
              " 1,\n",
              " 0,\n",
              " 0,\n",
              " 1,\n",
              " 0,\n",
              " 1,\n",
              " 1]"
            ]
          },
          "metadata": {},
          "execution_count": 39
        }
      ]
    },
    {
      "cell_type": "code",
      "metadata": {
        "colab": {
          "base_uri": "https://localhost:8080/"
        },
        "id": "Fd_s7KUzy_hR",
        "outputId": "eab80371-aa4a-41e2-fa23-48f7b5028149"
      },
      "source": [
        "y_test.value_counts()"
      ],
      "execution_count": 40,
      "outputs": [
        {
          "output_type": "execute_result",
          "data": {
            "text/plain": [
              "0    107\n",
              "1     72\n",
              "Name: Survived, dtype: int64"
            ]
          },
          "metadata": {},
          "execution_count": 40
        }
      ]
    },
    {
      "cell_type": "code",
      "metadata": {
        "id": "Zw7cM2XzykE2"
      },
      "source": [
        "from sklearn.metrics import confusion_matrix,classification_report"
      ],
      "execution_count": 41,
      "outputs": []
    },
    {
      "cell_type": "code",
      "metadata": {
        "colab": {
          "base_uri": "https://localhost:8080/"
        },
        "id": "jrxwtCxzA5-o",
        "outputId": "4b665ebc-f81d-4c93-e587-4745256e0264"
      },
      "source": [
        "print(confusion_matrix(y_test,y_pred1))"
      ],
      "execution_count": 42,
      "outputs": [
        {
          "output_type": "stream",
          "name": "stdout",
          "text": [
            "[[99  8]\n",
            " [27 45]]\n"
          ]
        }
      ]
    },
    {
      "cell_type": "code",
      "metadata": {
        "colab": {
          "base_uri": "https://localhost:8080/"
        },
        "id": "FWtUXs0TA9L9",
        "outputId": "5cd6d2a5-807e-4e7b-eadf-2fe0f17ae799"
      },
      "source": [
        "print(classification_report(y_test,y_pred1))"
      ],
      "execution_count": 43,
      "outputs": [
        {
          "output_type": "stream",
          "name": "stdout",
          "text": [
            "              precision    recall  f1-score   support\n",
            "\n",
            "           0       0.79      0.93      0.85       107\n",
            "           1       0.85      0.62      0.72        72\n",
            "\n",
            "    accuracy                           0.80       179\n",
            "   macro avg       0.82      0.78      0.78       179\n",
            "weighted avg       0.81      0.80      0.80       179\n",
            "\n"
          ]
        }
      ]
    },
    {
      "cell_type": "code",
      "metadata": {
        "colab": {
          "base_uri": "https://localhost:8080/"
        },
        "id": "pEHlj_i6BJYy",
        "outputId": "261e919b-e862-4912-9f6a-ed371f1ed8e9"
      },
      "source": [
        "mod.summary()"
      ],
      "execution_count": 45,
      "outputs": [
        {
          "output_type": "stream",
          "name": "stdout",
          "text": [
            "Model: \"sequential\"\n",
            "_________________________________________________________________\n",
            "Layer (type)                 Output Shape              Param #   \n",
            "=================================================================\n",
            "dense (Dense)                (None, 12)                84        \n",
            "_________________________________________________________________\n",
            "dense_1 (Dense)              (None, 8)                 104       \n",
            "_________________________________________________________________\n",
            "dense_2 (Dense)              (None, 1)                 9         \n",
            "=================================================================\n",
            "Total params: 197\n",
            "Trainable params: 197\n",
            "Non-trainable params: 0\n",
            "_________________________________________________________________\n"
          ]
        }
      ]
    }
  ]
}